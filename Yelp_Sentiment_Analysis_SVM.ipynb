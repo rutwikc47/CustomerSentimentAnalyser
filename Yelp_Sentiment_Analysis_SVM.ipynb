{
 "cells": [
  {
   "cell_type": "markdown",
   "metadata": {},
   "source": [
    "# Yelp Data Sentiment Analysis \n",
    "\n",
    "#### Perform Sentiment Analysis using SVM"
   ]
  },
  {
   "cell_type": "code",
   "execution_count": 104,
   "metadata": {},
   "outputs": [],
   "source": [
    "import os.path\n",
    "import re\n",
    "import string\n",
    "import seaborn as sns\n",
    "import pandas\n",
    "import matplotlib.pyplot as plt\n",
    "from pathlib import Path\n",
    "from pyspark.sql import SparkSession\n",
    "from boto3.session import Session\n",
    "from pyspark import SparkContext \n",
    "from pyspark.sql import SQLContext\n",
    "from pyspark.sql.functions import *\n",
    "from pyspark.sql.functions import udf, expr, concat, col\n",
    "from pyspark.sql.types import IntegerType\n",
    "from nltk.corpus import stopwords\n",
    "from pyspark.ml.feature import *\n",
    "from pyspark.mllib.regression import LabeledPoint\n",
    "from pyspark.mllib.classification import SVMWithSGD\n",
    "from pyspark.ml import linalg as ml_linalg\n",
    "from pyspark.mllib.linalg import Vectors as MLLibVectors\n",
    "from pyspark.mllib.util import MLUtils\n",
    "from pyspark.mllib.linalg import SparseVector\n",
    "from pyspark.mllib.regression import LabeledPoint\n",
    "from pyspark.mllib.classification import SVMWithSGD\n",
    "from numpy import array\n",
    "from pyspark.mllib.util import MLUtils\n",
    "from pyspark.ml.evaluation import MulticlassClassificationEvaluator\n",
    "from PIL import Image\n",
    "\n",
    "%matplotlib inline"
   ]
  },
  {
   "cell_type": "markdown",
   "metadata": {},
   "source": [
    "### Set up Amazon S3 Credentials (Note:- Our access and secret keys are removed for security purposes)"
   ]
  },
  {
   "cell_type": "code",
   "execution_count": 2,
   "metadata": {},
   "outputs": [],
   "source": [
    "ACCESS_KEY = 'MYACCESSKEY'\n",
    "SECRET_KEY = 'MYSECRETKEY'\n",
    "BUCKET_NAME = 'yelpbigdata'\n",
    "PREFIX = 'root'\n",
    "MAX_FILES_READ = 4"
   ]
  },
  {
   "cell_type": "code",
   "execution_count": 3,
   "metadata": {},
   "outputs": [],
   "source": [
    "session = Session(aws_access_key_id=ACCESS_KEY, aws_secret_access_key=SECRET_KEY)"
   ]
  },
  {
   "cell_type": "code",
   "execution_count": 4,
   "metadata": {},
   "outputs": [],
   "source": [
    "s3 = session.resource('s3')"
   ]
  },
  {
   "cell_type": "code",
   "execution_count": 5,
   "metadata": {},
   "outputs": [
    {
     "name": "stdout",
     "output_type": "stream",
     "text": [
      "s3.Bucket(name='yelpbigdata')\n"
     ]
    }
   ],
   "source": [
    "my_bucket = s3.Bucket(BUCKET_NAME)\n",
    "print(my_bucket)"
   ]
  },
  {
   "cell_type": "code",
   "execution_count": 6,
   "metadata": {},
   "outputs": [],
   "source": [
    "spark = SparkSession.builder.appName('BDF').getOrCreate()"
   ]
  },
  {
   "cell_type": "code",
   "execution_count": 7,
   "metadata": {},
   "outputs": [],
   "source": [
    "spark._jsc.hadoopConfiguration().set(\"fs.s3a.access.key\", ACCESS_KEY)\n",
    "spark._jsc.hadoopConfiguration().set(\"fs.s3a.secret.key\", SECRET_KEY)\n",
    "spark._jsc.hadoopConfiguration().set(\"fs.s3a.impl\",\"org.apache.hadoop.fs.s3a.S3AFileSystem\")\n",
    "spark._jsc.hadoopConfiguration().set(\"com.amazonaws.services.s3.enableV4\", \"true\")\n",
    "spark._jsc.hadoopConfiguration().set(\"fs.s3a.aws.credentials.provider\",\"org.apache.hadoop.fs.s3a.BasicAWSCredentialsProvider\")\n",
    "spark._jsc.hadoopConfiguration().set(\"fs.s3a.endpoint\", \"s3-eu-west-1.amazonaws.com\")"
   ]
  },
  {
   "cell_type": "markdown",
   "metadata": {},
   "source": [
    "### Check if the file exists and the bucket is initialised correctly"
   ]
  },
  {
   "cell_type": "code",
   "execution_count": 8,
   "metadata": {},
   "outputs": [
    {
     "name": "stdout",
     "output_type": "stream",
     "text": [
      "s3.ObjectSummary(bucket_name='yelpbigdata', key='yelp_review.csv')\n",
      "YO\n",
      "Found file: yelp_review.csv\n",
      "file location: s3a://yelpbigdata/yelp_review.csv\n",
      "s3a://yelpbigdata/yelp_review.csv MapPartitionsRDD[1] at textFile at NativeMethodAccessorImpl.java:0\n"
     ]
    }
   ],
   "source": [
    "index = 0\n",
    "for s3_file in my_bucket.objects.filter(Prefix=\"\"):\n",
    "    print(s3_file)\n",
    "    if 'csv' in s3_file.key:\n",
    "        print(\"YO\")\n",
    "        index += 1\n",
    "        print (\"Found file: {file}\".format(file=s3_file.key))\n",
    "        if index == MAX_FILES_READ:\n",
    "            break\n",
    "        fileLocation = \"s3a://{bucket}/{file}\".format(bucket=BUCKET_NAME,file=s3_file.key)\n",
    "        print (\"file location: {loc}\".format(loc=fileLocation))\n",
    "        s3File = sc.textFile(fileLocation)\n",
    "print(s3File)"
   ]
  },
  {
   "cell_type": "markdown",
   "metadata": {},
   "source": [
    "### Download the Data from the S3 Bucket and load into the dataframe"
   ]
  },
  {
   "cell_type": "code",
   "execution_count": 9,
   "metadata": {},
   "outputs": [],
   "source": [
    "my_bucket.download_file('yelp_review.csv',\"review.csv\")"
   ]
  },
  {
   "cell_type": "code",
   "execution_count": 10,
   "metadata": {},
   "outputs": [],
   "source": [
    "df_review = spark.read.format(\"com.databricks.spark.csv\").option(\"wholeFile\", \"true\").option(\"multiline\",\"true\").option(\"header\", \"true\").option(\"inferSchema\", \"true\").option(\"delimiter\", \",\").option(\"encoding\", \"ISO-8859-1\").option(\"charset\", \"ISO-8859-1\").option(\"quote\", \"\\\"\").option(\"escape\", \"\\\"\").load(\"/content/review.csv\")"
   ]
  },
  {
   "cell_type": "code",
   "execution_count": 11,
   "metadata": {},
   "outputs": [],
   "source": [
    "df_review=df_review.drop('_c0')"
   ]
  },
  {
   "cell_type": "markdown",
   "metadata": {},
   "source": [
    "### Verify if the dataframe is loaded properly"
   ]
  },
  {
   "cell_type": "code",
   "execution_count": 14,
   "metadata": {},
   "outputs": [
    {
     "name": "stdout",
     "output_type": "stream",
     "text": [
      "+--------------------+\n",
      "|           review_id|\n",
      "+--------------------+\n",
      "|eSmuw_7aCamAWhKdi...|\n",
      "|4ueKWKLBGUdqlBAHL...|\n",
      "|N-47CYWYryHK3T08d...|\n",
      "|q5yeoNA71ztDxL9os...|\n",
      "|TLDkttZB7QqraRebe...|\n",
      "|fdnYkWFGL7c4EI_fD...|\n",
      "|CwVPsBftuOfeCsD_n...|\n",
      "|UfsfK7N5s3C9yYfq-...|\n",
      "|wAQjcUIaH3YZifok0...|\n",
      "|VUTPmJf5l40RKJr5X...|\n",
      "|PAkOX8JE6QZ_imz9N...|\n",
      "|UGPLubG5lvsTEeDEs...|\n",
      "|jsIu0mzYr4TrugEZz...|\n",
      "|AYoeCStffV79rgI7x...|\n",
      "|MAQjxKeR7oDFOmoeT...|\n",
      "|-1qxlXvAu8YOefjzj...|\n",
      "|t4ryBLTEnAZWq0rYH...|\n",
      "|GH05Igv_MMFyDfSqV...|\n",
      "|UitkfAeTPJHKolK6o...|\n",
      "|dUWfWiDg0u-giUFME...|\n",
      "+--------------------+\n",
      "only showing top 20 rows\n",
      "\n"
     ]
    }
   ],
   "source": [
    "df_review.select('review_id').distinct().show()"
   ]
  },
  {
   "cell_type": "code",
   "execution_count": 15,
   "metadata": {},
   "outputs": [
    {
     "data": {
      "text/plain": [
       "1000000"
      ]
     },
     "execution_count": 15,
     "metadata": {},
     "output_type": "execute_result"
    }
   ],
   "source": [
    "df_review.select('review_id').distinct().count()"
   ]
  },
  {
   "cell_type": "code",
   "execution_count": 24,
   "metadata": {},
   "outputs": [],
   "source": [
    "df_review = df_review.filter(df_review.stars.isNotNull())"
   ]
  },
  {
   "cell_type": "code",
   "execution_count": 29,
   "metadata": {},
   "outputs": [
    {
     "name": "stdout",
     "output_type": "stream",
     "text": [
      "+-----+------+\n",
      "|stars| count|\n",
      "+-----+------+\n",
      "|    1|156690|\n",
      "|    2| 78883|\n",
      "|    3|104973|\n",
      "|    4|210363|\n",
      "|    5|449091|\n",
      "+-----+------+\n",
      "\n"
     ]
    },
    {
     "data": {
      "text/plain": [
       "<matplotlib.axes._subplots.AxesSubplot at 0x1a1b11e7d0>"
      ]
     },
     "execution_count": 29,
     "metadata": {},
     "output_type": "execute_result"
    },
    {
     "data": {
      "image/png": "[encoded data removed]",
      "text/plain": [
       "<Figure size 432x288 with 1 Axes>"
      ]
     },
     "metadata": {},
     "output_type": "display_data"
    }
   ],
   "source": [
    "df_star = df_review.groupBy('stars').agg(count('review_id').alias('count')).sort('stars')\n",
    "df_star.show()\n",
    "df_star = df_star.withColumn('stars', col('stars').cast('int'))\n",
    "df_star = df_star.withColumn('count', col('count').cast('int'))\n",
    "pd_star = df_star.toPandas()\n",
    "sns.set(style=\"whitegrid\")\n",
    "sns.barplot(x = \"stars\", y = \"count\", data = pd_star)"
   ]
  },
  {
   "cell_type": "markdown",
   "metadata": {},
   "source": [
    "### We can observe that the main cluster of the reviews are on the positive areas, Meaning people tend to leave reviews when they get a good experience. Also it can be observed that the number of bad or (extreme) negative reviews (1 star)are much more than two or three star (neutral reviews) also showing a correlation between when people post reviews based on their experience"
   ]
  },
  {
   "cell_type": "markdown",
   "metadata": {},
   "source": [
    "### Data cleaning pre-processing"
   ]
  },
  {
   "cell_type": "markdown",
   "metadata": {},
   "source": [
    "#### Change the labels of all the reviews having >3 stars to be 1 i.e Positive and everything else to be 0 i.e negative and then do the text processing"
   ]
  },
  {
   "cell_type": "code",
   "execution_count": 32,
   "metadata": {},
   "outputs": [],
   "source": [
    "# Strip texts\n",
    "def punct_rem(text):\n",
    "    reg = re.compile('[' + re.escape(string.punctuation) + '0-9\\\\r\\\\t\\\\n]')\n",
    "    st = reg.sub(\" \", str(text))\n",
    "    return(st)\n",
    "\n",
    "# Relabel the stars\n",
    "def rel_star(star):\n",
    "    star = int(star)\n",
    "    if star >=4: return(1)\n",
    "    else: return(0)\n",
    "    \n",
    "starF = udf(lambda x: rel_star(x))\n",
    "pctF = udf(lambda x: punct_rem(x))"
   ]
  },
  {
   "cell_type": "code",
   "execution_count": 36,
   "metadata": {},
   "outputs": [],
   "source": [
    "fin_df = df_review.select('review_id', pctF('text'), starF('stars'))\n",
    "\n",
    "fin_df = fin_df.withColumnRenamed('<lambda>(text)', 'text').withColumn('label', fin_df[\"<lambda>(stars)\"].cast(IntegerType())).drop('<lambda>(stars)')"
   ]
  },
  {
   "cell_type": "markdown",
   "metadata": {},
   "source": [
    "#### Create Tokens and Remove stopwords to avoid unnecessary computations"
   ]
  },
  {
   "cell_type": "code",
   "execution_count": 39,
   "metadata": {},
   "outputs": [],
   "source": [
    "#Create Tokens\n",
    "\n",
    "token = Tokenizer(inputCol=\"text\", outputCol=\"words\")\n",
    "find_df_token = token.transform(fin_df)\n",
    "\n",
    "#Remove stop words to save space and avoid unnecessary computations\n",
    "\n",
    "stp_rem = StopWordsRemover(inputCol='words', outputCol='clean_text')\n",
    "find_df_token = stp_rem.transform(find_df_token)"
   ]
  },
  {
   "cell_type": "code",
   "execution_count": 40,
   "metadata": {},
   "outputs": [
    {
     "name": "stdout",
     "output_type": "stream",
     "text": [
      "+--------------------+--------------------+-----+\n",
      "|                text|          clean_text|label|\n",
      "+--------------------+--------------------+-----+\n",
      "|As someone who ha...|[someone, worked,...|    0|\n",
      "|I am actually hor...|[actually, horrif...|    0|\n",
      "|I love Deagan s  ...|[love, deagan, , ...|    1|\n",
      "|Dismal  lukewarm ...|[dismal, , lukewa...|    0|\n",
      "|Oh happy day  fin...|[oh, happy, day, ...|    1|\n",
      "|This is definitel...|[definitely, favo...|    1|\n",
      "|Really good place...|[really, good, pl...|    1|\n",
      "|Awesome office an...|[awesome, office,...|    1|\n",
      "|Most delicious au...|[delicious, authe...|    1|\n",
      "|I have been here ...|[twice, , nice, l...|    1|\n",
      "|Maria is VERY goo...|[maria, good, gre...|    1|\n",
      "|ORDER In  Deliver...|[order, , deliver...|    1|\n",
      "|We purchased new ...|[purchased, new, ...|    1|\n",
      "|Everything that m...|[everything, husb...|    1|\n",
      "|Called for a     ...|[called, , , , , ...|    1|\n",
      "|If I could give l...|[give, less, one,...|    0|\n",
      "|  pm on a super b...|[, , pm, super, b...|    0|\n",
      "|A close friend wa...|[close, friend, t...|    1|\n",
      "|Tried to have my ...|[tried, car, repa...|    0|\n",
      "|My husband and I ...|[husband, go, wee...|    0|\n",
      "+--------------------+--------------------+-----+\n",
      "only showing top 20 rows\n",
      "\n"
     ]
    }
   ],
   "source": [
    "find_df_token.select('text', 'clean_text', 'label').show()"
   ]
  },
  {
   "cell_type": "markdown",
   "metadata": {},
   "source": [
    "#### Trigrams"
   ]
  },
  {
   "cell_type": "code",
   "execution_count": 41,
   "metadata": {},
   "outputs": [],
   "source": [
    "n = 3\n",
    "three_gram = NGram(inputCol = 'words', outputCol = 'trigram', n = n)\n",
    "tri_ngram = three_gram.transform(find_df_token)\n",
    "\n",
    "# Find the most occuring ngram from the rdd\n",
    "\n",
    "tgrams = tri_ngram.rdd.flatMap(lambda x: x[-1]).filter(lambda x: len(x.split())==n)\n",
    "tgram_freq = tgrams.map(lambda x: (x, 1)).reduceByKey(lambda x,y: x+y).sortBy(lambda x: x[1], ascending=False).filter(lambda x: x[1]>=10)\n",
    "lis_tgram = tgram_freq.map(lambda x: x[0]).collect()"
   ]
  },
  {
   "cell_type": "code",
   "execution_count": 44,
   "metadata": {},
   "outputs": [],
   "source": [
    "def replace_word(text):\n",
    "    l_text = text.lower()\n",
    "    for tgram in lis_tgram:\n",
    "        return(l_text.replace(tgram, tgram.replace(' ', '_')))\n",
    "               \n",
    "df_tgram = udf(lambda x: replace_word(x))\n",
    "df_tgram = find_df_token.select(df_tgram('text'), 'label').withColumnRenamed('<lambda>(text)', 'text')"
   ]
  },
  {
   "cell_type": "code",
   "execution_count": 45,
   "metadata": {},
   "outputs": [],
   "source": [
    "# Again create tokens and remove stop words via tgrams\n",
    "\n",
    "token = Tokenizer(inputCol=\"text\", outputCol=\"words\")\n",
    "find_df_token = token.transform(fin_df)\n",
    "tgram_token = token.transform(df_tgram)\n",
    "tgram_token = stp_rem.transform(tgram_token)\n",
    "\n",
    "stp_rem = StopWordsRemover(inputCol='words', outputCol='clean_text')\n",
    "find_df_token = stp_rem.transform(find_df_token)"
   ]
  },
  {
   "cell_type": "code",
   "execution_count": 46,
   "metadata": {},
   "outputs": [],
   "source": [
    "# Init CountVectorizer\n",
    "cVect = CountVectorizer(inputCol='clean_text', outputCol='tf')\n",
    "cVectMod = cVect.fit(find_df_token)\n",
    "c_Vector = cVectMod.transform(find_df_token)"
   ]
  },
  {
   "cell_type": "code",
   "execution_count": 47,
   "metadata": {},
   "outputs": [],
   "source": [
    "# TF-IDF\n",
    "idf_tgram = IDF().setInputCol('tf').setOutputCol('tf-idf_tgram')\n",
    "tfidf_Mod = idf_tgram.fit(c_Vector)\n",
    "df_tfidf = tfidf_Mod.transform(c_Vector)"
   ]
  },
  {
   "cell_type": "markdown",
   "metadata": {},
   "source": [
    "#### SVM Training and Testing"
   ]
  },
  {
   "cell_type": "code",
   "execution_count": 52,
   "metadata": {},
   "outputs": [],
   "source": [
    "# Split the data (80% Train and 20% Test)\n",
    "\n",
    "split_data = df_tfidf.select(['tf-idf_tgram', 'label']).randomSplit([0.8,0.2])\n",
    "test_data = split_data[1].cache()\n",
    "train_data = split_data[0].cache()"
   ]
  },
  {
   "cell_type": "code",
   "execution_count": 53,
   "metadata": {},
   "outputs": [],
   "source": [
    "def ml_check(m):\n",
    "    if isinstance(m, ml_linalg.SparseVector): return MLLibVectors.sparse(m.size, m.indices, m.values)\n",
    "    elif isinstance(m, ml_linalg.DenseVector): return MLLibVectors.dense(m.toArray())\n",
    "    else: raise TypeError(\"Error: {0}\".format(type(m)))"
   ]
  },
  {
   "cell_type": "code",
   "execution_count": 55,
   "metadata": {},
   "outputs": [],
   "source": [
    "rdd_train = train_data.rdd.map(lambda row: LabeledPoint(row[1], ml_check(row[0])))\n",
    "rdd_test = test_data.rdd.map(lambda row: LabeledPoint(row[1], ml_check(row[0])))"
   ]
  },
  {
   "cell_type": "markdown",
   "metadata": {},
   "source": [
    "#### Train SVM Model"
   ]
  },
  {
   "cell_type": "code",
   "execution_count": 57,
   "metadata": {},
   "outputs": [],
   "source": [
    "iterations = 125\n",
    "regParam = 0.4\n",
    "svm_mod = SVMWithSGD.train(rdd_train, iterations, regParam=regParam)"
   ]
  },
  {
   "cell_type": "code",
   "execution_count": 58,
   "metadata": {},
   "outputs": [],
   "source": [
    "# Predict the labels\n",
    "label_predict = rdd_test.map(lambda x: (float(svm_mod.predict(x.features)), x.label))\n",
    "df_label_predict = spark.createDataFrame(label_predict, [\"prediction\", \"label\"])"
   ]
  },
  {
   "cell_type": "code",
   "execution_count": 59,
   "metadata": {},
   "outputs": [
    {
     "name": "stdout",
     "output_type": "stream",
     "text": [
      "+----------+-----+\n",
      "|prediction|label|\n",
      "+----------+-----+\n",
      "|       0.0|  0.0|\n",
      "|       0.0|  0.0|\n",
      "|       0.0|  0.0|\n",
      "|       1.0|  1.0|\n",
      "|       1.0|  1.0|\n",
      "|       1.0|  1.0|\n",
      "|       0.0|  0.0|\n",
      "|       0.0|  0.0|\n",
      "|       0.0|  1.0|\n",
      "|       0.0|  0.0|\n",
      "|       0.0|  0.0|\n",
      "|       1.0|  0.0|\n",
      "|       1.0|  1.0|\n",
      "|       1.0|  1.0|\n",
      "|       1.0|  1.0|\n",
      "|       1.0|  1.0|\n",
      "|       0.0|  0.0|\n",
      "|       1.0|  1.0|\n",
      "|       1.0|  1.0|\n",
      "|       0.0|  0.0|\n",
      "+----------+-----+\n",
      "only showing top 20 rows\n",
      "\n"
     ]
    }
   ],
   "source": [
    "df_label_predict.show()"
   ]
  },
  {
   "cell_type": "code",
   "execution_count": 62,
   "metadata": {},
   "outputs": [
    {
     "name": "stdout",
     "output_type": "stream",
     "text": [
      "F1 : 88.6328\n"
     ]
    }
   ],
   "source": [
    "# Check the F1 Score for the SVM Model\n",
    "f1_check = MulticlassClassificationEvaluator(labelCol=\"label\", predictionCol=\"prediction\", metricName=\"f1\")\n",
    "f1_val = f1_check.evaluate(df_label_predict)\n",
    "print(\"F1 : %.4f\" % ((f1_val)*100))"
   ]
  },
  {
   "cell_type": "markdown",
   "metadata": {},
   "source": [
    "### Extract the most positive and negative words in the reviews"
   ]
  },
  {
   "cell_type": "code",
   "execution_count": 80,
   "metadata": {},
   "outputs": [],
   "source": [
    "vocab_tgram = cVectMod.vocabulary\n",
    "weights_tgram = svm_mod.weights.toArray().tolist()\n",
    "df_pos_neg = sqlContext.createDataFrame(zip(vocab_tgram, weights_tgram), schema=['tgram', 'val'])"
   ]
  },
  {
   "cell_type": "code",
   "execution_count": 81,
   "metadata": {},
   "outputs": [
    {
     "name": "stdout",
     "output_type": "stream",
     "text": [
      "+-------------+--------------------+\n",
      "|        tgram|                 val|\n",
      "+-------------+--------------------+\n",
      "|        worst|-0.09324354970599408|\n",
      "|           ok|-0.09304118739764342|\n",
      "|         rude|-0.07975756195189866|\n",
      "|     horrible| -0.0761373068611471|\n",
      "|     terrible|-0.07474949182533894|\n",
      "|          bad|-0.07212828045209789|\n",
      "|      nothing|-0.06770278898458112|\n",
      "|        bland|-0.06527421040031611|\n",
      "|         okay| -0.0599232717575996|\n",
      "|     mediocre|-0.05647577383159...|\n",
      "|         told|-0.05592596871806896|\n",
      "|      average|-0.05588733819270...|\n",
      "|disappointing|-0.05553301560918...|\n",
      "|         poor|-0.05335692040036...|\n",
      "|         wasn|-0.05176143507845885|\n",
      "|        money|-0.05105471601615727|\n",
      "|      however|-0.04899242969661168|\n",
      "|         said|-0.04884308997229729|\n",
      "|         slow|-0.04874232641721...|\n",
      "|   overpriced|-0.04785312228233071|\n",
      "+-------------+--------------------+\n",
      "only showing top 20 rows\n",
      "\n",
      "+----------+-------------------+\n",
      "|     tgram|                val|\n",
      "+----------+-------------------+\n",
      "|     great| 0.1956306000692715|\n",
      "|   amazing|0.12925972609957836|\n",
      "|      best|0.12035664381808052|\n",
      "| delicious|0.11950048574319828|\n",
      "|      love|0.10998821270173198|\n",
      "|   awesome|0.09799229729371127|\n",
      "| excellent| 0.0970069733683622|\n",
      "|  friendly|0.09626741320392557|\n",
      "|definitely|0.09266276414773128|\n",
      "|    always|0.07719854111470667|\n",
      "|      good|    0.0715184412566|\n",
      "| recommend|0.07038482286234216|\n",
      "|    highly|0.06516485594276963|\n",
      "|   perfect|0.06487383163335703|\n",
      "|  favorite| 0.0642940741642526|\n",
      "| fantastic|0.06290324457330583|\n",
      "|     thank|0.06132601893976871|\n",
      "| wonderful|0.05943779838299818|\n",
      "|     loved|0.05927852432160663|\n",
      "|   helpful|0.05898547972923207|\n",
      "+----------+-------------------+\n",
      "only showing top 20 rows\n",
      "\n"
     ]
    }
   ],
   "source": [
    "df_pos_neg.orderBy('val').show()\n",
    "df_pos_neg.orderBy('val', ascending = False).show()"
   ]
  },
  {
   "cell_type": "code",
   "execution_count": 172,
   "metadata": {},
   "outputs": [],
   "source": [
    "sortdfneg = df_pos_neg.orderBy('val')\n",
    "sortdfneg = sortdfneg.rdd.map(lambda x: x.tgram).collect()\n",
    "sortdfpos = df_pos_neg.orderBy('val', ascending = False)\n",
    "sortdfpos = sortdfpos.rdd.map(lambda x: x.tgram).collect()"
   ]
  },
  {
   "cell_type": "markdown",
   "metadata": {},
   "source": [
    "### Positive Words"
   ]
  },
  {
   "cell_type": "code",
   "execution_count": 183,
   "metadata": {},
   "outputs": [
    {
     "data": {
      "image/png": "[encoded data removed]",
      "text/plain": [
       "<Figure size 288x288 with 1 Axes>"
      ]
     },
     "metadata": {
      "needs_background": "light"
     },
     "output_type": "display_data"
    }
   ],
   "source": [
    "from wordcloud import WordCloud, STOPWORDS\n",
    "stopwords = set(STOPWORDS)\n",
    "wordcloud = WordCloud(width = 800, height = 600, background_color ='white',stopwords = stopwords, min_font_size = 7).generate((\" \".join(sortdfpos[:20]))) \n",
    "\n",
    "plt.figure(figsize = (4, 4), facecolor = None) \n",
    "plt.imshow(wordcloud) \n",
    "plt.axis(\"off\") \n",
    "plt.tight_layout(pad = 0) \n",
    "  \n",
    "plt.show()"
   ]
  },
  {
   "cell_type": "markdown",
   "metadata": {},
   "source": [
    "### Negative Words"
   ]
  },
  {
   "cell_type": "code",
   "execution_count": 186,
   "metadata": {},
   "outputs": [
    {
     "data": {
      "image/png": "[encoded data removed]",
      "text/plain": [
       "<Figure size 288x288 with 1 Axes>"
      ]
     },
     "metadata": {
      "needs_background": "light"
     },
     "output_type": "display_data"
    }
   ],
   "source": [
    "from wordcloud import WordCloud, STOPWORDS\n",
    "stopwords = set(STOPWORDS)\n",
    "wordcloud = WordCloud(width = 800, height = 600, background_color ='white',stopwords = stopwords, min_font_size = 7).generate((\" \".join(sortdfneg[:20]))) \n",
    "\n",
    "plt.figure(figsize = (4, 4), facecolor = None) \n",
    "plt.imshow(wordcloud) \n",
    "plt.axis(\"off\") \n",
    "plt.tight_layout(pad = 0) \n",
    "  \n",
    "plt.show()"
   ]
  },
  {
   "cell_type": "code",
   "execution_count": null,
   "metadata": {},
   "outputs": [],
   "source": []
  }
 ],
 "metadata": {
  "kernelspec": {
   "display_name": "Python 3",
   "language": "python",
   "name": "python3"
  },
  "language_info": {
   "codemirror_mode": {
    "name": "ipython",
    "version": 3
   },
   "file_extension": ".py",
   "mimetype": "text/x-python",
   "name": "python",
   "nbconvert_exporter": "python",
   "pygments_lexer": "ipython3",
   "version": "3.7.4"
  }
 },
 "nbformat": 4,
 "nbformat_minor": 2
}
