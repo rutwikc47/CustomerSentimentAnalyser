{
 "cells": [
  {
   "cell_type": "code",
   "execution_count": 5,
   "metadata": {},
   "outputs": [],
   "source": [
    "import pyspark\n",
    "import os\n",
    "import functools\n",
    "from pyspark.sql import functions as F\n",
    "from pyspark.ml import Pipeline\n",
    "from pyspark.ml.feature import StringIndexer, OneHotEncoder, VectorAssembler, VectorIndexer\n",
    "from pyspark.sql.types import BooleanType, DoubleType\n",
    "from pyspark.ml.regression import LinearRegression\n",
    "from pyspark.ml.evaluation import MulticlassClassificationEvaluator\n",
    "from pyspark.ml.classification import DecisionTreeClassifier\n",
    "from boto3.session import Session"
   ]
  },
  {
   "cell_type": "code",
   "execution_count": 6,
   "metadata": {},
   "outputs": [],
   "source": [
    "spark = pyspark.sql.SparkSession.builder.config(\"spark.driver.memory\", \"30g\").appName('final').getOrCreate()\n",
    "sc = spark.sparkContext"
   ]
  },
  {
   "cell_type": "markdown",
   "metadata": {},
   "source": [
    "### Set up Amazon S3 Credentials (Note:- Our access and secret keys are removed for security purposes)"
   ]
  },
  {
   "cell_type": "code",
   "execution_count": 7,
   "metadata": {},
   "outputs": [],
   "source": [
    "ACCESS_KEY = 'MYACCESSKEY'\n",
    "SECRET_KEY = 'MYSECRETKEY'\n",
    "BUCKET_NAME = 'yelpbigdata'\n",
    "PREFIX = 'root'\n",
    "MAX_FILES_READ = 4"
   ]
  },
  {
   "cell_type": "code",
   "execution_count": 9,
   "metadata": {},
   "outputs": [],
   "source": [
    "session = Session(aws_access_key_id=ACCESS_KEY, aws_secret_access_key=SECRET_KEY)"
   ]
  },
  {
   "cell_type": "code",
   "execution_count": 11,
   "metadata": {},
   "outputs": [
    {
     "name": "stdout",
     "output_type": "stream",
     "text": [
      "s3.Bucket(name='yelpbigdata')\n"
     ]
    }
   ],
   "source": [
    "s3 = session.resource('s3')\n",
    "my_bucket = s3.Bucket(BUCKET_NAME)\n",
    "print(my_bucket)"
   ]
  },
  {
   "cell_type": "code",
   "execution_count": 12,
   "metadata": {},
   "outputs": [],
   "source": [
    "spark._jsc.hadoopConfiguration().set(\"fs.s3a.access.key\", ACCESS_KEY)\n",
    "spark._jsc.hadoopConfiguration().set(\"fs.s3a.secret.key\", SECRET_KEY)\n",
    "spark._jsc.hadoopConfiguration().set(\"fs.s3a.impl\",\"org.apache.hadoop.fs.s3a.S3AFileSystem\")\n",
    "spark._jsc.hadoopConfiguration().set(\"com.amazonaws.services.s3.enableV4\", \"true\")\n",
    "spark._jsc.hadoopConfiguration().set(\"fs.s3a.aws.credentials.provider\",\"org.apache.hadoop.fs.s3a.BasicAWSCredentialsProvider\")\n",
    "spark._jsc.hadoopConfiguration().set(\"fs.s3a.endpoint\", \"s3-eu-west-1.amazonaws.com\")"
   ]
  },
  {
   "cell_type": "markdown",
   "metadata": {},
   "source": [
    "### Download the Data from the S3 Bucket and load into the dataframe"
   ]
  },
  {
   "cell_type": "code",
   "execution_count": 13,
   "metadata": {},
   "outputs": [
    {
     "data": {
      "text/plain": [
       "s3.ServiceResource()"
      ]
     },
     "execution_count": 13,
     "metadata": {},
     "output_type": "execute_result"
    }
   ],
   "source": [
    "s3\n",
    "my_bucket.download_file('yelp_business.csv',\"business.csv\")"
   ]
  },
  {
   "cell_type": "code",
   "execution_count": 15,
   "metadata": {},
   "outputs": [],
   "source": [
    "data = spark.read.format(\"com.databricks.spark.csv\").\\\n",
    "            option(\"wholeFile\", \"true\").\\\n",
    "            option(\"header\", \"true\").\\\n",
    "            option(\"inferSchema\", \"true\").\\\n",
    "            option(\"delimiter\",\",\").\\\n",
    "            option(\"encoding\", \"ISO-8859-1\").\\\n",
    "            option(\"charset\", \"ISO-8859-1\").\\\n",
    "            option(\"quote\", \"\\\"\").\\\n",
    "            option(\"escape\", \"\\\"\").\\\n",
    "            load(\"/content/business.csv\")"
   ]
  },
  {
   "cell_type": "code",
   "execution_count": 16,
   "metadata": {},
   "outputs": [],
   "source": [
    "@F.udf(returnType=BooleanType())\n",
    "def isRestaurant(categories):\n",
    "    return 'Restaurants' in categories\n",
    "\n",
    "data = data.filter(isRestaurant('categories'))"
   ]
  },
  {
   "cell_type": "code",
   "execution_count": 17,
   "metadata": {},
   "outputs": [],
   "source": [
    "data = data.withColumnRenamed('name', 'BusinessName')"
   ]
  },
  {
   "cell_type": "code",
   "execution_count": 18,
   "metadata": {},
   "outputs": [],
   "source": [
    "trainingColumns = []\n",
    "\n",
    "for column in data.columns:\n",
    "    if len(column) > 12 and column[:11] == 'attributes.':\n",
    "        data = data.withColumnRenamed(column, column[11:])\n",
    "        trainingColumns.append(column[11:])\n",
    "    elif len(column) > 6 and column[:6] == 'hours.':\n",
    "        data = data.withColumnRenamed(column, column[6:])"
   ]
  },
  {
   "cell_type": "code",
   "execution_count": 19,
   "metadata": {},
   "outputs": [],
   "source": [
    "nonBoolCols = ['AgesAllowed', \\\n",
    "                 'Alcohol', \\\n",
    "                 'BYOBCorkage', \\\n",
    "                 'NoiseLevel', \\\n",
    "                 'RestaurantsAttire', \\\n",
    "                 'Smoking', \\\n",
    "                 'WiFi']"
   ]
  },
  {
   "cell_type": "code",
   "execution_count": 20,
   "metadata": {},
   "outputs": [],
   "source": [
    "def mapper(a):\n",
    "    return a[0].split()[0].strip(\"\\\"\\':{}u\").split()\n",
    "    \n",
    "def reducer(aye, bee):\n",
    "    for b in bee:\n",
    "        if not b.lower() in aye and not b.lower() in ['na', 'true', 'false', '']:\n",
    "            aye.append(b.lower())\n",
    "    return aye"
   ]
  },
  {
   "cell_type": "code",
   "execution_count": 21,
   "metadata": {},
   "outputs": [],
   "source": [
    "newTrainingCols = []\n",
    "negValues = ['na', 'none', 'None', 'False']\n",
    "posValues = ['True']\n",
    "\n",
    "for col in nonBoolCols:\n",
    "    newCols = data.select([col]).rdd.map(list)\n",
    "    newCols = newCols.map(lambda a: mapper(a)).reduce(lambda a, b: reducer(a, b))\n",
    "    newCols = list(filter(lambda a: a.lower() not in negValues, newCols))\n",
    "    newCols = list(filter(lambda a: a.lower() not in posValues, newCols))\n",
    "\n",
    "    for newCol in newCols:\n",
    "    \n",
    "        @F.udf(returnType=DoubleType())\n",
    "        def myEncoder(x):\n",
    "            if (x.lower() == newCol or newCol in x.lower()):\n",
    "                for n in negValues:\n",
    "                    if n == x or n in x:\n",
    "                        return 0.0\n",
    "                return 1.0\n",
    "            else:\n",
    "                return 0.5\n",
    "    \n",
    "        data = data.withColumn(col + '_' + newCol, myEncoder(data[col]))\n",
    "        newTrainingCols.append(col + '_' + newCol)"
   ]
  },
  {
   "cell_type": "code",
   "execution_count": 22,
   "metadata": {},
   "outputs": [
    {
     "name": "stdout",
     "output_type": "stream",
     "text": [
      "+----------------+\n",
      "|Alcohol_full_bar|\n",
      "+----------------+\n",
      "|             1.0|\n",
      "|             0.5|\n",
      "+----------------+\n",
      "\n"
     ]
    }
   ],
   "source": [
    "data.select(data[newTrainingCols[1]]).distinct().show()"
   ]
  },
  {
   "cell_type": "code",
   "execution_count": 23,
   "metadata": {},
   "outputs": [],
   "source": [
    "for col in trainingColumns:\n",
    "    \n",
    "    data = data.withColumn(col + '_encoded', F.when(data[col] == True, 1.0).\n",
    "                                when(data[col] == False, 0.0).\n",
    "                                otherwise(0.5))\n",
    "    newTrainingCols.append(col + '_encoded')"
   ]
  },
  {
   "cell_type": "code",
   "execution_count": 24,
   "metadata": {},
   "outputs": [
    {
     "name": "stdout",
     "output_type": "stream",
     "text": [
      "['AgesAllowed_21plus', 'Alcohol_full_bar', 'Alcohol_beer_and_wine', 'BYOBCorkage_no', 'BYOBCorkage_yes_free', 'BYOBCorkage_yes_corkage', 'NoiseLevel_quiet', 'NoiseLevel_average', 'NoiseLevel_very_loud', 'NoiseLevel_loud', 'RestaurantsAttire_casual', 'RestaurantsAttire_dressy', 'RestaurantsAttire_formal', 'Smoking_no', 'Smoking_outdoor', 'Smoking_yes', 'WiFi_free', 'WiFi_no', 'WiFi_paid', 'BusinessAcceptsCreditCards_encoded', 'BikeParking_encoded', 'GoodForKids_encoded', 'ByAppointmentOnly_encoded', 'RestaurantsPriceRange2_encoded', 'DogsAllowed_encoded', 'RestaurantsTakeOut_encoded', 'RestaurantsReservations_encoded', 'RestaurantsGoodForGroups_encoded', 'HasTV_encoded', 'RestaurantsDelivery_encoded', 'OutdoorSeating_encoded', 'Caters_encoded', 'WheelchairAccessible_encoded', 'AcceptsInsurance_encoded', 'RestaurantsTableService_encoded', 'HappyHour_encoded', 'BusinessAcceptsBitcoin_encoded', 'BYOB_encoded', 'Corkage_encoded', 'GoodForDancing_encoded', 'CoatCheck_encoded', 'DriveThru_encoded']\n"
     ]
    }
   ],
   "source": [
    "featureColumns = list(filter(lambda x: data.select(data[x]).distinct().count() > 1, newTrainingCols))\n",
    "print(featureColumns)"
   ]
  },
  {
   "cell_type": "code",
   "execution_count": 25,
   "metadata": {},
   "outputs": [],
   "source": [
    "assembler = VectorAssembler(inputCols=featureColumns, outputCol='features')\n",
    "data = assembler.transform(data)"
   ]
  },
  {
   "cell_type": "code",
   "execution_count": 26,
   "metadata": {},
   "outputs": [],
   "source": [
    "@F.udf(returnType=DoubleType())\n",
    "def toLabel(stars):\n",
    "    if stars >= 4.0:\n",
    "        return 1.0\n",
    "    else:\n",
    "        return 0.0\n",
    "\n",
    "data = data.withColumn('label', data['stars'].cast(DoubleType()))\n",
    "data = data.na.drop(subset=['label'])\n",
    "data = data.withColumn('label', toLabel(data['label']))"
   ]
  },
  {
   "cell_type": "code",
   "execution_count": 27,
   "metadata": {},
   "outputs": [],
   "source": [
    "import seaborn as sns\n",
    "import matplotlib\n",
    "import matplotlib.pyplot as plt\n",
    "import pandas as pd\n",
    "%matplotlib inline\n",
    "pandasData = data.toPandas()"
   ]
  },
  {
   "cell_type": "code",
   "execution_count": 28,
   "metadata": {},
   "outputs": [
    {
     "name": "stdout",
     "output_type": "stream",
     "text": [
      "<class 'pandas.core.frame.DataFrame'>\n",
      "RangeIndex: 6883 entries, 0 to 6882\n",
      "Columns: 118 entries, business_id to label\n",
      "dtypes: float64(63), int32(1), object(54)\n",
      "memory usage: 6.2+ MB\n"
     ]
    }
   ],
   "source": [
    "pandasData.info()"
   ]
  },
  {
   "cell_type": "code",
   "execution_count": 29,
   "metadata": {},
   "outputs": [
    {
     "data": {
      "image/png": "[encoded data removed]",
      "text/plain": [
       "<Figure size 432x288 with 1 Axes>"
      ]
     },
     "metadata": {
      "needs_background": "light"
     },
     "output_type": "display_data"
    }
   ],
   "source": [
    "sns.distplot(pandasData['stars'], kde=False);"
   ]
  },
  {
   "cell_type": "code",
   "execution_count": 30,
   "metadata": {},
   "outputs": [
    {
     "data": {
      "image/png": "[encoded data removed]",
      "text/plain": [
       "<Figure size 432x288 with 2 Axes>"
      ]
     },
     "metadata": {
      "needs_background": "light"
     },
     "output_type": "display_data"
    }
   ],
   "source": [
    "corr_df = pandasData[['label', 'Alcohol_full_bar', 'Smoking_yes', 'GoodForKids', 'Ambience_encoded', 'BikeParking']]\n",
    "sns.heatmap(corr_df.corr());"
   ]
  },
  {
   "cell_type": "code",
   "execution_count": 31,
   "metadata": {},
   "outputs": [
    {
     "data": {
      "image/png": "[encoded data removed]",
      "text/plain": [
       "<Figure size 432x288 with 1 Axes>"
      ]
     },
     "metadata": {
      "needs_background": "light"
     },
     "output_type": "display_data"
    }
   ],
   "source": [
    "sns.boxplot(x='WiFi_no', y='label', data=pandasData);"
   ]
  },
  {
   "cell_type": "code",
   "execution_count": 32,
   "metadata": {},
   "outputs": [],
   "source": [
    "train, test = data.randomSplit([0.8, 0.2])"
   ]
  },
  {
   "cell_type": "markdown",
   "metadata": {},
   "source": [
    "### Test a DecisionTree model"
   ]
  },
  {
   "cell_type": "code",
   "execution_count": 33,
   "metadata": {},
   "outputs": [
    {
     "name": "stdout",
     "output_type": "stream",
     "text": [
      "+----------+-----+--------------------+\n",
      "|prediction|label|            features|\n",
      "+----------+-----+--------------------+\n",
      "|       0.0|  0.0|[0.5,0.5,0.5,0.5,...|\n",
      "|       0.0|  0.0|[0.5,0.5,0.5,0.5,...|\n",
      "|       0.0|  1.0|[0.5,0.5,0.5,0.5,...|\n",
      "|       0.0|  0.0|[0.5,0.5,0.5,0.5,...|\n",
      "|       0.0|  0.0|[0.5,0.5,0.5,0.5,...|\n",
      "|       0.0|  0.0|[0.5,0.5,0.5,0.5,...|\n",
      "|       0.0|  0.0|[0.5,0.5,0.5,0.5,...|\n",
      "|       0.0|  0.0|[0.5,1.0,0.5,0.5,...|\n",
      "|       1.0|  0.0|[0.5,0.5,0.5,0.5,...|\n",
      "|       0.0|  0.0|[0.5,0.5,0.5,0.5,...|\n",
      "|       0.0|  0.0|[0.5,1.0,0.5,0.5,...|\n",
      "|       1.0|  0.0|[0.5,0.5,0.5,0.5,...|\n",
      "|       0.0|  0.0|[0.5,0.5,0.5,0.5,...|\n",
      "|       0.0|  1.0|[0.5,0.5,0.5,0.5,...|\n",
      "|       1.0|  1.0|[0.5,0.5,0.5,0.5,...|\n",
      "|       0.0|  1.0|[0.5,0.5,0.5,0.5,...|\n",
      "|       0.0|  0.0|[0.5,0.5,0.5,0.5,...|\n",
      "|       0.0|  0.0|[0.5,0.5,0.5,0.5,...|\n",
      "|       0.0|  1.0|[0.5,0.5,0.5,0.5,...|\n",
      "|       1.0|  0.0|[0.5,0.5,0.5,0.5,...|\n",
      "|       0.0|  0.0|[0.5,1.0,0.5,0.5,...|\n",
      "|       0.0|  0.0|[0.5,0.5,0.5,0.5,...|\n",
      "|       0.0|  1.0|[0.5,0.5,0.5,0.5,...|\n",
      "|       0.0|  0.0|[0.5,0.5,0.5,0.5,...|\n",
      "|       0.0|  1.0|[0.5,0.5,0.5,0.5,...|\n",
      "|       0.0|  1.0|[0.5,0.5,0.5,0.5,...|\n",
      "|       0.0|  0.0|[0.5,0.5,0.5,0.5,...|\n",
      "|       0.0|  0.0|[0.5,0.5,0.5,0.5,...|\n",
      "|       0.0|  0.0|[0.5,1.0,0.5,0.5,...|\n",
      "|       0.0|  0.0|[0.5,0.5,0.5,0.5,...|\n",
      "|       0.0|  0.0|[0.5,0.5,0.5,0.5,...|\n",
      "|       0.0|  0.0|[0.5,0.5,0.5,0.5,...|\n",
      "|       0.0|  0.0|[0.5,0.5,0.5,0.5,...|\n",
      "|       0.0|  0.0|[0.5,0.5,0.5,0.5,...|\n",
      "|       0.0|  1.0|[0.5,0.5,1.0,0.5,...|\n",
      "|       0.0|  0.0|[0.5,0.5,0.5,0.5,...|\n",
      "|       0.0|  1.0|[0.5,0.5,0.5,0.5,...|\n",
      "|       0.0|  0.0|[0.5,0.5,0.5,0.5,...|\n",
      "|       0.0|  0.0|[0.5,0.5,0.5,0.5,...|\n",
      "|       0.0|  1.0|[0.5,0.5,0.5,0.5,...|\n",
      "|       0.0|  0.0|[0.5,0.5,0.5,0.5,...|\n",
      "|       0.0|  0.0|[0.5,0.5,0.5,0.5,...|\n",
      "|       0.0|  0.0|[0.5,0.5,0.5,0.5,...|\n",
      "|       0.0|  1.0|[0.5,0.5,0.5,0.5,...|\n",
      "|       0.0|  0.0|[0.5,0.5,0.5,0.5,...|\n",
      "|       0.0|  0.0|[0.5,0.5,0.5,0.5,...|\n",
      "|       1.0|  1.0|[0.5,0.5,0.5,0.5,...|\n",
      "|       0.0|  1.0|[0.5,0.5,0.5,0.5,...|\n",
      "|       0.0|  1.0|[0.5,0.5,0.5,0.5,...|\n",
      "|       0.0|  0.0|[0.5,0.5,0.5,0.5,...|\n",
      "|       0.0|  0.0|[0.5,0.5,0.5,0.5,...|\n",
      "|       0.0|  0.0|[0.5,0.5,0.5,0.5,...|\n",
      "|       0.0|  1.0|[0.5,0.5,0.5,0.5,...|\n",
      "|       0.0|  1.0|[0.5,0.5,0.5,0.5,...|\n",
      "|       0.0|  0.0|[0.5,0.5,0.5,0.5,...|\n",
      "|       0.0|  0.0|[0.5,0.5,0.5,0.5,...|\n",
      "|       0.0|  0.0|[0.5,0.5,0.5,0.5,...|\n",
      "|       0.0|  0.0|[0.5,0.5,0.5,0.5,...|\n",
      "|       0.0|  0.0|[0.5,0.5,0.5,0.5,...|\n",
      "|       0.0|  0.0|[0.5,0.5,0.5,0.5,...|\n",
      "|       0.0|  1.0|[0.5,1.0,0.5,0.5,...|\n",
      "|       0.0|  0.0|[0.5,0.5,0.5,0.5,...|\n",
      "|       0.0|  0.0|[0.5,0.5,0.5,0.5,...|\n",
      "|       0.0|  0.0|[0.5,0.5,0.5,0.5,...|\n",
      "|       0.0|  0.0|[0.5,0.5,0.5,0.5,...|\n",
      "|       0.0|  1.0|[0.5,0.5,0.5,0.5,...|\n",
      "|       0.0|  0.0|[0.5,0.5,0.5,0.5,...|\n",
      "|       0.0|  1.0|[0.5,0.5,0.5,0.5,...|\n",
      "|       0.0|  0.0|[0.5,0.5,0.5,0.5,...|\n",
      "|       0.0|  0.0|[0.5,0.5,0.5,0.5,...|\n",
      "|       0.0|  1.0|[0.5,0.5,0.5,0.5,...|\n",
      "|       0.0|  0.0|[0.5,0.5,0.5,0.5,...|\n",
      "|       0.0|  1.0|[0.5,0.5,0.5,0.5,...|\n",
      "|       0.0|  0.0|[0.5,0.5,0.5,0.5,...|\n",
      "|       0.0|  1.0|[0.5,0.5,0.5,0.5,...|\n",
      "|       0.0|  1.0|[0.5,0.5,0.5,0.5,...|\n",
      "|       0.0|  0.0|[0.5,0.5,0.5,0.5,...|\n",
      "|       0.0|  0.0|[0.5,0.5,0.5,0.5,...|\n",
      "|       0.0|  1.0|[0.5,0.5,0.5,0.5,...|\n",
      "|       0.0|  0.0|[0.5,0.5,0.5,0.5,...|\n",
      "|       0.0|  1.0|[0.5,0.5,0.5,0.5,...|\n",
      "|       0.0|  0.0|[0.5,0.5,0.5,0.5,...|\n",
      "|       0.0|  1.0|[0.5,0.5,0.5,0.5,...|\n",
      "|       0.0|  1.0|[0.5,0.5,0.5,0.5,...|\n",
      "|       0.0|  0.0|[0.5,1.0,0.5,0.5,...|\n",
      "|       0.0|  1.0|[0.5,0.5,0.5,0.5,...|\n",
      "|       0.0|  1.0|[0.5,0.5,0.5,0.5,...|\n",
      "|       0.0|  1.0|[0.5,0.5,0.5,0.5,...|\n",
      "|       1.0|  0.0|[0.5,0.5,1.0,0.5,...|\n",
      "|       0.0|  1.0|[0.5,0.5,0.5,0.5,...|\n",
      "|       0.0|  0.0|[0.5,0.5,0.5,0.5,...|\n",
      "|       0.0|  0.0|[0.5,0.5,0.5,0.5,...|\n",
      "|       0.0|  0.0|[0.5,0.5,0.5,0.5,...|\n",
      "|       0.0|  0.0|[0.5,0.5,0.5,0.5,...|\n",
      "|       1.0|  0.0|[0.5,1.0,0.5,0.5,...|\n",
      "|       0.0|  0.0|[0.5,0.5,0.5,0.5,...|\n",
      "|       0.0|  0.0|[0.5,0.5,0.5,0.5,...|\n",
      "|       0.0|  0.0|[0.5,0.5,0.5,0.5,...|\n",
      "|       0.0|  0.0|[0.5,1.0,0.5,0.5,...|\n",
      "|       0.0|  1.0|[0.5,0.5,0.5,0.5,...|\n",
      "+----------+-----+--------------------+\n",
      "only showing top 100 rows\n",
      "\n",
      "Test Error = 0.318422 \n",
      "[DecisionTreeClassificationModel (uid=DecisionTreeClassifier_f0a42956bf88) of depth 5 with 41 nodes]\n"
     ]
    }
   ],
   "source": [
    "from pyspark.ml import Pipeline\n",
    "from pyspark.ml.classification import DecisionTreeClassifier\n",
    "from pyspark.ml.feature import StringIndexer, VectorIndexer\n",
    "from pyspark.ml.evaluation import MulticlassClassificationEvaluator\n",
    "\n",
    "# Split the data into training and test sets (30% held out for testing)\n",
    "(trainingData, testData) = data.randomSplit([0.7, 0.3])\n",
    "\n",
    "# Train a DecisionTree model.\n",
    "dt = DecisionTreeClassifier(labelCol=\"label\", featuresCol=\"features\")\n",
    "\n",
    "# Chain indexers and tree in a Pipeline\n",
    "pipeline = Pipeline(stages=[dt])\n",
    "\n",
    "# Train model.  This also runs the indexers.\n",
    "model = pipeline.fit(trainingData)\n",
    "\n",
    "# Make predictions.\n",
    "predictions = model.transform(testData)\n",
    "\n",
    "# Select example rows to display.\n",
    "predictions.select(\"prediction\", \"label\", \"features\").show(100)\n",
    "\n",
    "# Select (prediction, true label) and compute test error\n",
    "evaluator = MulticlassClassificationEvaluator(\n",
    "    labelCol=\"label\", predictionCol=\"prediction\", metricName=\"accuracy\")\n",
    "accuracy = evaluator.evaluate(predictions)\n",
    "print(\"Test Error = %g \" % (1.0 - accuracy))\n",
    "\n",
    "treeModel = model.stages\n",
    "# summary only\n",
    "print(treeModel)"
   ]
  },
  {
   "cell_type": "markdown",
   "metadata": {},
   "source": [
    "### Create a SparkTorch Model with torch distributed. Barrier execution is on by default for this mode."
   ]
  },
  {
   "cell_type": "code",
   "execution_count": 37,
   "metadata": {},
   "outputs": [],
   "source": [
    "from sparktorch import serialize_torch_obj, SparkTorch\n",
    "import torch\n",
    "import torch.nn as nn\n",
    "from pyspark.ml.feature import VectorAssembler\n",
    "from pyspark.sql import SparkSession\n",
    "from pyspark.ml.pipeline import Pipeline\n",
    "\n",
    "network = nn.Sequential(\n",
    "        nn.Linear(42, 21),\n",
    "        nn.ReLU(),\n",
    "        nn.Linear(21, 10),\n",
    "        nn.ReLU(),\n",
    "        nn.Linear(10, 2),\n",
    "        nn.ReLU()\n",
    "    )\n",
    "\n",
    "torch_obj = serialize_torch_obj(\n",
    "    model=network,\n",
    "    criterion=nn.CrossEntropyLoss(),\n",
    "    optimizer=torch.optim.Adam,\n",
    "    lr=0.0001\n",
    ")\n",
    "\n",
    "spark_model = SparkTorch(\n",
    "    inputCol='features',\n",
    "    labelCol='label',\n",
    "    predictionCol='predictions',\n",
    "    torchObj=torch_obj,\n",
    "    iters=1000,\n",
    "    verbose=1,\n",
    "    earlyStopPatience=40,\n",
    "    validationPct=0.2\n",
    ")"
   ]
  },
  {
   "cell_type": "code",
   "execution_count": 38,
   "metadata": {},
   "outputs": [],
   "source": [
    "p = spark_model.fit(data)"
   ]
  },
  {
   "cell_type": "code",
   "execution_count": 39,
   "metadata": {},
   "outputs": [
    {
     "name": "stdout",
     "output_type": "stream",
     "text": [
      "Train accuracy = 0.685893\n"
     ]
    }
   ],
   "source": [
    "predictions = p.transform(data).persist()\n",
    "evaluator = MulticlassClassificationEvaluator(\n",
    "    labelCol=\"label\", predictionCol=\"predictions\", metricName=\"accuracy\")\n",
    "\n",
    "accuracy = evaluator.evaluate(predictions)\n",
    "print(\"Train accuracy = %g\" % accuracy)"
   ]
  },
  {
   "cell_type": "code",
   "execution_count": null,
   "metadata": {},
   "outputs": [],
   "source": []
  }
 ],
 "metadata": {
  "kernelspec": {
   "display_name": "Python 3",
   "language": "python",
   "name": "python3"
  },
  "language_info": {
   "codemirror_mode": {
    "name": "ipython",
    "version": 3
   },
   "file_extension": ".py",
   "mimetype": "text/x-python",
   "name": "python",
   "nbconvert_exporter": "python",
   "pygments_lexer": "ipython3",
   "version": "3.7.4"
  }
 },
 "nbformat": 4,
 "nbformat_minor": 2
}
